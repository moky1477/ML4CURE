{
 "cells": [
  {
   "cell_type": "code",
   "execution_count": 1,
   "id": "885f8371",
   "metadata": {},
   "outputs": [
    {
     "name": "stdout",
     "output_type": "stream",
     "text": [
      "False\n",
      "True\n",
      "True\n",
      "True\n"
     ]
    }
   ],
   "source": [
    "a = \"HELLO, AND WELCOME TO MY WORLD\"\n",
    "b = \"Hello\"\n",
    "c = \"22 Names\"\n",
    "d = \"This Is %'!?\"\n",
    "\n",
    "print(a.istitle())\n",
    "print(b.istitle())\n",
    "print(c.istitle())\n",
    "print(d.istitle())"
   ]
  },
  {
   "cell_type": "code",
   "execution_count": 2,
   "id": "a3f624d9",
   "metadata": {},
   "outputs": [
    {
     "name": "stdout",
     "output_type": "stream",
     "text": [
      "True\n",
      "False\n",
      "False\n"
     ]
    }
   ],
   "source": [
    "s = '   \\t'\n",
    "print(s.isspace())\n",
    "\n",
    "s = ' a '\n",
    "print(s.isspace())\n",
    "\n",
    "s = ''\n",
    "print(s.isspace())"
   ]
  },
  {
   "cell_type": "code",
   "execution_count": 5,
   "id": "e183708a",
   "metadata": {},
   "outputs": [
    {
     "name": "stdout",
     "output_type": "stream",
     "text": [
      "apple                is my favorite fruit.\n",
      "appleOOOOOOOOOOOOOOO\n"
     ]
    }
   ],
   "source": [
    "txt = \"apple\"\n",
    "\n",
    "x = txt.ljust(20)\n",
    "\n",
    "print(x, \"is my favorite fruit.\")\n",
    "txt = \"apple\"\n",
    "\n",
    "x = txt.ljust(20, \"O\")\n",
    "\n",
    "print(x)"
   ]
  },
  {
   "cell_type": "code",
   "execution_count": 6,
   "id": "f0449f78",
   "metadata": {},
   "outputs": [
    {
     "name": "stdout",
     "output_type": "stream",
     "text": [
      "of all fruits banana      is my favorite\n"
     ]
    }
   ],
   "source": [
    "txt = \"     banana     \"\n",
    "\n",
    "x = txt.lstrip()\n",
    "\n",
    "print(\"of all fruits\", x, \"is my favorite\")"
   ]
  },
  {
   "cell_type": "code",
   "execution_count": 7,
   "id": "d63499a8",
   "metadata": {},
   "outputs": [
    {
     "name": "stdout",
     "output_type": "stream",
     "text": [
      "['Thank you for the music', 'Welcome to the jungle']\n"
     ]
    }
   ],
   "source": [
    "txt = \"Thank you for the music\\nWelcome to the jungle\"\n",
    "\n",
    "x = txt.splitlines()\n",
    "\n",
    "print(x)\n"
   ]
  },
  {
   "cell_type": "code",
   "execution_count": 1,
   "id": "26dcfd35",
   "metadata": {},
   "outputs": [
    {
     "name": "stdout",
     "output_type": "stream",
     "text": [
      "Lowercase string: python is awesome\n"
     ]
    }
   ],
   "source": [
    "string = \"PYTHON IS AWESOME\"\n",
    "\n",
    "# print lowercase string\n",
    "print(\"Lowercase string:\", string.casefold())"
   ]
  },
  {
   "cell_type": "code",
   "execution_count": 2,
   "id": "f71372ae",
   "metadata": {},
   "outputs": [
    {
     "name": "stdout",
     "output_type": "stream",
     "text": [
      "xyz     12345   abc\n"
     ]
    }
   ],
   "source": [
    "str = 'xyz\\t12345\\tabc'\n",
    "\n",
    "# no argument is passed\n",
    "# default tabsize is 8\n",
    "result = str.expandtabs()\n",
    "\n",
    "print(result)"
   ]
  },
  {
   "cell_type": "code",
   "execution_count": 3,
   "id": "9d4f5e89",
   "metadata": {},
   "outputs": [
    {
     "name": "stdout",
     "output_type": "stream",
     "text": [
      "True\n"
     ]
    }
   ],
   "source": [
    "message = 'Python is fun'\n",
    "\n",
    "# check if the message ends with fun\n",
    "print(message.endswith('fun'))\n",
    "\n",
    "# Output: True"
   ]
  },
  {
   "cell_type": "code",
   "execution_count": 4,
   "id": "7c60660d",
   "metadata": {},
   "outputs": [
    {
     "name": "stdout",
     "output_type": "stream",
     "text": [
      "True\n"
     ]
    }
   ],
   "source": [
    "message = 'Python is fun'\n",
    "\n",
    "# check if the message starts with Python\n",
    "print(message.startswith('Python'))\n",
    "\n",
    "# Output: True"
   ]
  },
  {
   "cell_type": "code",
   "execution_count": 8,
   "id": "d206560f",
   "metadata": {},
   "outputs": [
    {
     "name": "stdout",
     "output_type": "stream",
     "text": [
      "True\n",
      "False\n",
      "False\n",
      "False\n"
     ]
    }
   ],
   "source": [
    "# Function str.isdecimal() - determines whether all characters in a string are decimal\n",
    "\n",
    "# Case 1. A non-empty string\n",
    "s = '123'\n",
    "f = s.isdecimal() # f = True\n",
    "print(f)\n",
    "\n",
    "f = 'A123'.isdecimal() # f = False, the string contains the character 'A'\n",
    "print(f)\n",
    "s = '5.8'\n",
    "f = s.isdecimal() # f = False, the string contains the character '.'\n",
    "print(f)\n",
    "# Case 2. Empty string\n",
    "s = ''\n",
    "f = s.isdecimal() # f = False\n",
    "print(f)"
   ]
  },
  {
   "cell_type": "code",
   "execution_count": 12,
   "id": "91db6bbd",
   "metadata": {},
   "outputs": [
    {
     "name": "stdout",
     "output_type": "stream",
     "text": [
      "True\n",
      "True\n",
      "False\n",
      "True\n"
     ]
    }
   ],
   "source": [
    "# Function str.isidentifier()\n",
    "\n",
    "s = \"Hello\"\n",
    "f = s.isidentifier() # f = True\n",
    "print(f)\n",
    "s = \"a1\"\n",
    "f = s.isidentifier() # f = True\n",
    "print(f)\n",
    "s = \"1a\"\n",
    "f = s.isidentifier() # f = False - not identifier and not keyword\n",
    "print(f)\n",
    "s = 'for'\n",
    "f = s.isidentifier() # f = True - keyword\n",
    "print(f)\n",
    "f = 'class'.isidentifier() # f = True - keyword\n"
   ]
  },
  {
   "cell_type": "code",
   "execution_count": 14,
   "id": "c7539420",
   "metadata": {},
   "outputs": [
    {
     "name": "stdout",
     "output_type": "stream",
     "text": [
      "True\n",
      "False\n",
      "False\n",
      "True\n",
      "False\n",
      "False\n"
     ]
    }
   ],
   "source": [
    "# Function str.islower()\n",
    "\n",
    "s = \"hello\"\n",
    "f = s.islower() # f = True\n",
    "print(f)\n",
    "\n",
    "s = 'Hello'\n",
    "f = s.islower() # f = False\n",
    "print(f)\n",
    "s = '123' # all are digits\n",
    "f = s.islower() # f = False\n",
    "print(f)\n",
    "s = 'a123' # at least one lowercase letter\n",
    "f = s.islower() # f = True\n",
    "print(f)\n",
    "s = 'A123' # one letter in uppercase\n",
    "f = s.islower() # f = False\n",
    "print(f)\n",
    "f = '-+;:'.islower() # f = False\n",
    "print(f)"
   ]
  },
  {
   "cell_type": "code",
   "execution_count": 16,
   "id": "3b9c05b2",
   "metadata": {},
   "outputs": [
    {
     "name": "stdout",
     "output_type": "stream",
     "text": [
      "True\n",
      "False\n",
      "True\n",
      "False\n",
      "False\n",
      "False\n"
     ]
    }
   ],
   "source": [
    "# Function str.isnumeric()\n",
    "\n",
    "# Case 1. Empty string\n",
    "s = \"\" # f = False\n",
    "print(f)\n",
    "# Case 2. Non-empty string\n",
    "s = 'abcd'\n",
    "f = s.isnumeric() # f = False\n",
    "print(f)\n",
    "s = '1234'\n",
    "f = s.isnumeric() # f = True\n",
    "print(f)\n",
    "s = 'A1'\n",
    "f = s.isnumeric() # f = False\n",
    "print(f)\n",
    "s = '2.5'\n",
    "f = s.isnumeric() # f = False\n",
    "print(f)\n",
    "f = '-8'.isnumeric() # f = False\n",
    "print(f)"
   ]
  },
  {
   "cell_type": "code",
   "execution_count": 18,
   "id": "a82c11b0",
   "metadata": {},
   "outputs": [
    {
     "name": "stdout",
     "output_type": "stream",
     "text": [
      "False\n",
      "False\n",
      "False\n",
      "True\n",
      "True\n",
      "False\n"
     ]
    }
   ],
   "source": [
    "# Function str.isupper()\n",
    "\n",
    "s = 'abcd'\n",
    "f = s.isupper() # f = False\n",
    "print(f)\n",
    "s = '' # empty string\n",
    "f = s.isupper() # f = False\n",
    "print(f)\n",
    "s = 'Abcd'\n",
    "f = s.isupper() # f = False\n",
    "print(f)\n",
    "s = 'ABCD'\n",
    "f = s.isupper() # f = True\n",
    "print(f)\n",
    "s = 'A123'\n",
    "f = s.isupper() # f = True\n",
    "print(f)\n",
    "s = '1Aa23'\n",
    "f = s.isupper() # f = False\n",
    "print(f)"
   ]
  },
  {
   "cell_type": "code",
   "execution_count": null,
   "id": "329b2af8",
   "metadata": {},
   "outputs": [],
   "source": []
  }
 ],
 "metadata": {
  "kernelspec": {
   "display_name": "Python 3 (ipykernel)",
   "language": "python",
   "name": "python3"
  },
  "language_info": {
   "codemirror_mode": {
    "name": "ipython",
    "version": 3
   },
   "file_extension": ".py",
   "mimetype": "text/x-python",
   "name": "python",
   "nbconvert_exporter": "python",
   "pygments_lexer": "ipython3",
   "version": "3.10.1"
  }
 },
 "nbformat": 4,
 "nbformat_minor": 5
}
